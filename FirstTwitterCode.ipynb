{
 "cells": [
  {
   "cell_type": "markdown",
   "metadata": {
    "collapsed": true
   },
   "source": [
    "# PULL DATA WITH HASHTAGS FROM TWITTER API"
   ]
  },
  {
   "cell_type": "code",
   "execution_count": null,
   "metadata": {
    "collapsed": true
   },
   "outputs": [],
   "source": [
    "consumer_key = \"9jw8syb2eC32SIx75b5UjdMp9\"\n",
    "consumer_secret = \"E4bRREccMa1llqIFuUuPDmEYAvSGxJtGTBL67fF2FJQPnKAQMA\"\n",
    "access_token = \"54216295-vauG81V5P47BIK7J4JDIzjNDphR4TiQG1uUBFPgAG\"\n",
    "access_token_secret = \"GzoviqVtODpOae9QVLlD2wcC8hxo9hll2OK4wmt8Lmrg2\""
   ]
  },
  {
   "cell_type": "code",
   "execution_count": 3,
   "metadata": {},
   "outputs": [
    {
     "name": "stdout",
     "output_type": "stream",
     "text": [
      "Microsoft Windows [Version 6.3.9600]\r\n",
      "(c) 2013 Microsoft Corporation. All rights reserved.\r\n",
      "\r\n",
      "(base) C:\\Users\\linhbnguyen018\\Desktop\\Schoolwork\\Columbia M.S\\Spring 2018\\Computational>pip install tweepy==3.5.0\n",
      "Requirement already satisfied: tweepy==3.5.0 in c:\\users\\linhbnguyen018\\anaconda3\\lib\\site-packages\r\n",
      "Requirement already satisfied: requests-oauthlib>=0.4.1 in c:\\users\\linhbnguyen018\\anaconda3\\lib\\site-packages (from tweepy==3.5.0)\r\n",
      "Requirement already satisfied: requests>=2.4.3 in c:\\users\\linhbnguyen018\\anaconda3\\lib\\site-packages (from tweepy==3.5.0)\r\n",
      "Requirement already satisfied: six>=1.7.3 in c:\\users\\linhbnguyen018\\anaconda3\\lib\\site-packages (from tweepy==3.5.0)\r\n",
      "Requirement already satisfied: oauthlib>=0.6.2 in c:\\users\\linhbnguyen018\\anaconda3\\lib\\site-packages (from requests-oauthlib>=0.4.1->tweepy==3.5.0)\r\n",
      "Requirement already satisfied: chardet<3.1.0,>=3.0.2 in c:\\users\\linhbnguyen018\\anaconda3\\lib\\site-packages (from requests>=2.4.3->tweepy==3.5.0)\r\n",
      "Requirement already satisfied: idna<2.7,>=2.5 in c:\\users\\linhbnguyen018\\anaconda3\\lib\\site-packages (from requests>=2.4.3->tweepy==3.5.0)\r\n",
      "Requirement already satisfied: urllib3<1.23,>=1.21.1 in c:\\users\\linhbnguyen018\\anaconda3\\lib\\site-packages (from requests>=2.4.3->tweepy==3.5.0)\r\n",
      "Requirement already satisfied: certifi>=2017.4.17 in c:\\users\\linhbnguyen018\\anaconda3\\lib\\site-packages (from requests>=2.4.3->tweepy==3.5.0)\r\n",
      "\r\n",
      "(base) C:\\Users\\linhbnguyen018\\Desktop\\Schoolwork\\Columbia M.S\\Spring 2018\\Computational>"
     ]
    },
    {
     "name": "stderr",
     "output_type": "stream",
     "text": [
      "You are using pip version 9.0.1, however version 10.0.1 is available.\r\n",
      "You should consider upgrading via the 'python -m pip install --upgrade pip' command.\r\n"
     ]
    }
   ],
   "source": [
    "%%cmd\n",
    "pip install tweepy==3.5.0"
   ]
  },
  {
   "cell_type": "code",
   "execution_count": 4,
   "metadata": {},
   "outputs": [
    {
     "name": "stdout",
     "output_type": "stream",
     "text": [
      "<class 'tweepy.api.API'>\n"
     ]
    }
   ],
   "source": [
    "# before we can make Twitter API calls, we need to initialize a few things...\n",
    "from tweepy import OAuthHandler, API\n",
    "\n",
    "# setup the authentication\n",
    "auth = OAuthHandler(consumer_key, consumer_secret)\n",
    "auth.set_access_token(access_token, access_token_secret)\n",
    "\n",
    "# create an object we will use to communicate with the Twitter API\n",
    "api = API(auth)\n",
    "print(type(api))"
   ]
  },
  {
   "cell_type": "code",
   "execution_count": 40,
   "metadata": {},
   "outputs": [
    {
     "name": "stdout",
     "output_type": "stream",
     "text": [
      "RT @GAYLETTER: “My mom always told me I was born before my time. And I never understood what she meant until recently.” — Tracey Norman  ph…\n",
      "RT @bridgs_dev: Hello!! My name's Ayla, she/her, I'm an indie game designer and developer! If ya wanna talk 'bout queer and/or game stuff,…\n",
      "RT @5impleSteph: After over a decade and a half of seeing changes in my body that didn’t feel right and suppressing thoughts and feelings i…\n",
      "RT @TeenVogue: \"Trans visibility matters. It helps eliminate barriers. And while I have so many goals for my future, I also know that our t…\n",
      "RT @CityofDarebin: Today we proudly raised the #transgender flag in prep for International Transgender Day of Visibility ( #TDOV ) on 31/3.…\n",
      "RT @mazapanitx: happy #TDOV from your favorite NB cosmonaut 😘 https://t.co/joMqNWvNHU\n",
      "RT @Adrian_DLV: Bonne journée de la visibilité trans à tout le monde ! Je me suis dis que c'était l'occasion de discuter visibilité ! 👊🌈\n",
      "N'…\n",
      "RT @korradelrio: Happy Transgender Day of Visibility. Hear real voices and learn about our community by visiting https://t.co/XoJOyLd6JK. T…\n",
      "RT @TeenVogue: For #TDOV, we caught up with @ohyouknowellie to talk about why their role is important, why it's critical that Michael is po…\n",
      "RT @EdeneightMan: #TDOV #TransDayOfVisibility\n",
      "C'est moi ! Je suis un futur papa trans trop fier de porter son bébé 💞 https://t.co/x1FLAChQHF\n",
      "RT @EdeneightMan: #TDOV #TransDayOfVisibility\n",
      "C'est moi ! Je suis un futur papa trans trop fier de porter son bébé 💞 https://t.co/x1FLAChQHF\n",
      "RT @Adrian_DLV: Bonne journée de la visibilité trans à tout le monde ! Je me suis dis que c'était l'occasion de discuter visibilité ! 👊🌈\n",
      "N'…\n",
      "RT @SwindledAgain: We’re not going away. And there are more of us than you think. #TDOV #TDOV2018 #TransDayOfVisibility https://t.co/93UuId…\n",
      "RT @stonewalluk: Happy #TransDayOfVisibility! To all our trans friends and family: you are valuable, valid and important members of our com…\n",
      "RT @HRC: This #TransDayOfVisibility, as we celebrate the people who are visible and proud, we also remember those who have been targeted an…\n",
      "RT @MavenOfMayhem: All the work I do as an ally is thanks to the 2 trans women in my life, my amazing wife and daughter, who choose to be v…\n",
      "RT @OhMiaGod: 3 years ago I shared my first selfie for #TDOV \n",
      "\n",
      "I was closeted, scared, and totally overwhelmed! But I powered ahead and slo…\n",
      "RT @OhMiaGod: 3 years ago I shared my first selfie for #TDOV \n",
      "\n",
      "I was closeted, scared, and totally overwhelmed! But I powered ahead and slo…\n",
      "RT @jtwb768: Trans and nonbinary visibility matters-but we can go one step further. Join @transunitedfund in going from Visible to Powerful…\n",
      "RT @belfastcc: City Hall is turning blue and pink tonight for International Transgender Day of Visibility #tdov #transthriving #BelfastLigh…\n",
      "RT @MavenOfMayhem: All the work I do as an ally is thanks to the 2 trans women in my life, my amazing wife and daughter, who choose to be v…\n",
      "RT @stonewalluk: Happy #TransDayOfVisibility! To all our trans friends and family: you are valuable, valid and important members of our com…\n",
      "RT @jtwb768: Trans and nonbinary visibility matters-but we can go one step further. Join @transunitedfund in going from Visible to Powerful…\n",
      "RT @ChrissieSeeB: Whether you're ready to be visible or not, you're loved --- and your equality should never be the subject of discussion o…\n",
      "A little bit of Sunday reading &gt;&gt; Where are all the trans scientists? https://t.co/ScbQWezZHN  by @SussexUni's @DoriekeMG #TDOV\n",
      "RT @sour_cucumbers: Your fav nonbinary babe fighting  for justice (and fighting everyone who misgenders them) #TDOV #TransDayOfVisibility h…\n",
      "RT @sour_cucumbers: Your fav nonbinary babe fighting  for justice (and fighting everyone who misgenders them) #TDOV #TransDayOfVisibility h…\n",
      "Happy #TransDayOfVisibility #tdov\n",
      "\n",
      "I'm 40 mins\n",
      "RT @sailorbecc: i think #tdov is a good time to say if you only use my pronouns when it’s convenient to you (ie. you don’t use them with ce…\n",
      "RT @itssosophs: My late #tdov post is dedicated to all the incredible human beings who've openly let me in on their lives. May your stories…\n",
      "RT @stonewalluk: Happy #TransDayOfVisibility! To all our trans friends and family: you are valuable, valid and important members of our com…\n",
      "RT @huffpostqueer: Today is International Transgender Day of Visibility. 💜 #TransDayOfVisibility #TDOV https://t.co/ZrZfhQwL6C\n",
      "RT @FluffyBunnyPixl: Hi I'm a trans woman making pixelart of rabbits and I made a game once that you can play in your browser here https://…\n",
      "RT @MavenOfMayhem: All the work I do as an ally is thanks to the 2 trans women in my life, my amazing wife and daughter, who choose to be v…\n",
      "RT @timbungco: #TDOV #tdov17 #transvisibility https://t.co/p0EyVy75Va\n",
      "RT @MavenOfMayhem: All the work I do as an ally is thanks to the 2 trans women in my life, my amazing wife and daughter, who choose to be v…\n",
      "@pwcdanica @RedCross @RedCrossAU in Australia rejected me as a donor cos I'd been with a man in less than 12 months… https://t.co/s44FzZvDfu\n",
      "RT @ashybeach: Happy late #tdov ! I'm a transfemme artist and out here trying to live my life! #transdayofvisibilty https://t.co/ZkKATD5zwi\n",
      "RT @AdriMakesArt: Hi there, I’m Adri - I’m non binary and have been drawing cartoons and funny animals for about as long as I could hold a…\n",
      "RT @AdriMakesArt: Hi there, I’m Adri - I’m non binary and have been drawing cartoons and funny animals for about as long as I could hold a…\n",
      "RT @AdriMakesArt: Hi there, I’m Adri - I’m non binary and have been drawing cartoons and funny animals for about as long as I could hold a…\n",
      "RT @AdriMakesArt: Hi there, I’m Adri - I’m non binary and have been drawing cartoons and funny animals for about as long as I could hold a…\n",
      "RT @AdriMakesArt: Hi there, I’m Adri - I’m non binary and have been drawing cartoons and funny animals for about as long as I could hold a…\n",
      "RT @AdriMakesArt: Hi there, I’m Adri - I’m non binary and have been drawing cartoons and funny animals for about as long as I could hold a…\n",
      "RT @AdriMakesArt: Hi there, I’m Adri - I’m non binary and have been drawing cartoons and funny animals for about as long as I could hold a…\n",
      "RT @AdriMakesArt: Hi there, I’m Adri - I’m non binary and have been drawing cartoons and funny animals for about as long as I could hold a…\n",
      "RT @AdriMakesArt: Hi there, I’m Adri - I’m non binary and have been drawing cartoons and funny animals for about as long as I could hold a…\n",
      "RT @AdriMakesArt: Hi there, I’m Adri - I’m non binary and have been drawing cartoons and funny animals for about as long as I could hold a…\n",
      "RT @MsJamieClayton: HAPPY #TransDayOfVisibility!! I remain visible, out &amp; proud to show the world that I belong. That we belong. All my lov…\n",
      "RT @HRC: This #TransDayOfVisibility, as we celebrate the people who are visible and proud, we also remember those who have been targeted an…\n",
      "RT @VictoryDanceOfc: Hi, I'm Chris! I'm an enby trans guy and I draw cartoons for a living! I also work with baby animals :D\n",
      "\n",
      "I have a webs…\n",
      "RT @JulieSweet: For Riley Poldek, @Accenture's accepting and empowering culture helps her thrive as her authentic self. And during times of…\n",
      "RT @stonewalluk: Happy #TransDayOfVisibility! To all our trans friends and family: you are valuable, valid and important members of our com…\n",
      "RT @CaribEquality: On this International #TransDayofVisibility, we are honored to share Victoria Veemala's #MyTruthMyStory, an inspirationa…\n",
      "RT @marlboroughbtn: Charlie Craggs, Christine Burns and SEA SHARP join Juno Dawson in her 'Lovely Trans Literary Salon' 27th April. Expect…\n",
      "RT @YouTube: This #TDOV we want to thank the one-and-only @TheGigiGorgeous for sharing her incredible &amp; inspiring journey with us. #ThisIsE…\n",
      "RT @MsJamieClayton: HAPPY #TransDayOfVisibility!! I remain visible, out &amp; proud to show the world that I belong. That we belong. All my lov…\n",
      "RT @rothrainbow: Great day @FandHCoffee celebrating community, moving beyond visibility &amp; putting our words into action for #TDOV2018 \n",
      "\n",
      "#TD…\n",
      "RT @surrey_lgbt: On #TransDayOfVisibility we send out love and support to all our wonderful trans members; wherever you are on your own per…\n",
      "RT @TrevorProject: Trans people have always been here 💙💗💙 We're here to support you 24/7: 866.488.7386 or text/chat https://t.co/is3earL7XN…\n",
      "RT @Adrian_DLV: Bonne journée de la visibilité trans à tout le monde ! Je me suis dis que c'était l'occasion de discuter visibilité ! 👊🌈\n",
      "N'…\n",
      "RT @TransLawCenter: We see you, and we're so grateful you're here with us. #TDoV #TransDayofVisibility https://t.co/3fim7SmAgS\n",
      "RT @UMGenderSurgery: A message from our leader, #DrChrisSalgado #TransDayOfVisibility #TDOV #UMH https://t.co/zrhLoXPjz0\n",
      "@MaxBentleyTowle @GuyonEspiner @JohnJCampbell @ninetonoon @JMulliganRNZ @meganjwhelan @rnz_news @NZMorningReport… https://t.co/BgdW5WwysS\n",
      "RT @OphCourse: Hoy es el Día de la Visibilidad Trans #TDOV Un día hecho para CELEBRAR lo trans y los logros trans. Para tal, les voy a comp…\n",
      "Forgot #TDOV #transgenderdayofvisibility\n",
      "RT @travisalabanza: If you are only visible in your dreams, your head, to one person, or in some hidden chat room, you are still valid. #td…\n",
      "RT @mxbarclay: Blessed be our communities, blessed be our lives, blessed be our bodies and blessed be the work we still have before us of f…\n"
     ]
    }
   ],
   "source": [
    "tweets = api.search(\"#tdov\",result_type = \"recent\",count=100)\n",
    "\n",
    "for tweet in tweets:\n",
    "    print(tweet.text)"
   ]
  },
  {
   "cell_type": "markdown",
   "metadata": {},
   "source": [
    "# PICTURE METADATA LABELS"
   ]
  },
  {
   "cell_type": "code",
   "execution_count": 22,
   "metadata": {},
   "outputs": [
    {
     "name": "stdout",
     "output_type": "stream",
     "text": [
      "Microsoft Windows [Version 6.3.9600]\r\n",
      "(c) 2013 Microsoft Corporation. All rights reserved.\r\n",
      "\r\n",
      "(base) C:\\Users\\linhbnguyen018\\Desktop\\Schoolwork\\Columbia M.S\\Spring 2018\\Computational>pip install protobuf --upgrade\n",
      "Requirement already up-to-date: protobuf in c:\\users\\linhbnguyen018\\anaconda3\\lib\\site-packages\r\n",
      "Requirement already up-to-date: setuptools in c:\\users\\linhbnguyen018\\anaconda3\\lib\\site-packages (from protobuf)\r\n",
      "Requirement already up-to-date: six>=1.9 in c:\\users\\linhbnguyen018\\anaconda3\\lib\\site-packages (from protobuf)\r\n",
      "\r\n",
      "(base) C:\\Users\\linhbnguyen018\\Desktop\\Schoolwork\\Columbia M.S\\Spring 2018\\Computational>"
     ]
    },
    {
     "name": "stderr",
     "output_type": "stream",
     "text": [
      "You are using pip version 9.0.1, however version 10.0.1 is available.\r\n",
      "You should consider upgrading via the 'python -m pip install --upgrade pip' command.\r\n"
     ]
    }
   ],
   "source": [
    "%%cmd\n",
    "pip install protobuf --upgrade"
   ]
  },
  {
   "cell_type": "code",
   "execution_count": 25,
   "metadata": {},
   "outputs": [
    {
     "name": "stdout",
     "output_type": "stream",
     "text": [
      "Microsoft Windows [Version 6.3.9600]\r\n",
      "(c) 2013 Microsoft Corporation. All rights reserved.\r\n",
      "\r\n",
      "(base) C:\\Users\\linhbnguyen018\\Desktop\\Schoolwork\\Columbia M.S\\Spring 2018\\Computational>pip install --upgrade google-cloud-vision\n",
      "Requirement already up-to-date: google-cloud-vision in c:\\users\\linhbnguyen018\\anaconda3\\lib\\site-packages\r\n",
      "Requirement already up-to-date: google-api-core[grpc]<2.0.0dev,>=0.1.0 in c:\\users\\linhbnguyen018\\anaconda3\\lib\\site-packages (from google-cloud-vision)\r\n",
      "Requirement already up-to-date: six>=1.10.0 in c:\\users\\linhbnguyen018\\anaconda3\\lib\\site-packages (from google-api-core[grpc]<2.0.0dev,>=0.1.0->google-cloud-vision)\r\n",
      "Requirement already up-to-date: googleapis-common-protos<2.0dev,>=1.5.3 in c:\\users\\linhbnguyen018\\anaconda3\\lib\\site-packages (from google-api-core[grpc]<2.0.0dev,>=0.1.0->google-cloud-vision)\r\n",
      "Requirement already up-to-date: protobuf>=3.0.0 in c:\\users\\linhbnguyen018\\anaconda3\\lib\\site-packages (from google-api-core[grpc]<2.0.0dev,>=0.1.0->google-cloud-vision)\r\n",
      "Requirement already up-to-date: pytz in c:\\users\\linhbnguyen018\\anaconda3\\lib\\site-packages (from google-api-core[grpc]<2.0.0dev,>=0.1.0->google-cloud-vision)\r\n",
      "Requirement already up-to-date: requests<3.0.0dev,>=2.18.0 in c:\\users\\linhbnguyen018\\anaconda3\\lib\\site-packages (from google-api-core[grpc]<2.0.0dev,>=0.1.0->google-cloud-vision)\r\n",
      "Requirement already up-to-date: setuptools>=34.0.0 in c:\\users\\linhbnguyen018\\anaconda3\\lib\\site-packages (from google-api-core[grpc]<2.0.0dev,>=0.1.0->google-cloud-vision)\r\n",
      "Requirement already up-to-date: google-auth<2.0.0dev,>=0.4.0 in c:\\users\\linhbnguyen018\\anaconda3\\lib\\site-packages (from google-api-core[grpc]<2.0.0dev,>=0.1.0->google-cloud-vision)\r\n",
      "Requirement already up-to-date: grpcio>=1.8.2; extra == \"grpc\" in c:\\users\\linhbnguyen018\\anaconda3\\lib\\site-packages (from google-api-core[grpc]<2.0.0dev,>=0.1.0->google-cloud-vision)\r\n",
      "Requirement already up-to-date: chardet<3.1.0,>=3.0.2 in c:\\users\\linhbnguyen018\\anaconda3\\lib\\site-packages (from requests<3.0.0dev,>=2.18.0->google-api-core[grpc]<2.0.0dev,>=0.1.0->google-cloud-vision)\r\n",
      "Requirement already up-to-date: idna<2.7,>=2.5 in c:\\users\\linhbnguyen018\\anaconda3\\lib\\site-packages (from requests<3.0.0dev,>=2.18.0->google-api-core[grpc]<2.0.0dev,>=0.1.0->google-cloud-vision)\r\n",
      "Requirement already up-to-date: urllib3<1.23,>=1.21.1 in c:\\users\\linhbnguyen018\\anaconda3\\lib\\site-packages (from requests<3.0.0dev,>=2.18.0->google-api-core[grpc]<2.0.0dev,>=0.1.0->google-cloud-vision)\r\n",
      "Requirement already up-to-date: certifi>=2017.4.17 in c:\\users\\linhbnguyen018\\anaconda3\\lib\\site-packages (from requests<3.0.0dev,>=2.18.0->google-api-core[grpc]<2.0.0dev,>=0.1.0->google-cloud-vision)\r\n",
      "Requirement already up-to-date: cachetools>=2.0.0 in c:\\users\\linhbnguyen018\\anaconda3\\lib\\site-packages (from google-auth<2.0.0dev,>=0.4.0->google-api-core[grpc]<2.0.0dev,>=0.1.0->google-cloud-vision)\r\n",
      "Requirement already up-to-date: pyasn1-modules>=0.2.1 in c:\\users\\linhbnguyen018\\anaconda3\\lib\\site-packages (from google-auth<2.0.0dev,>=0.4.0->google-api-core[grpc]<2.0.0dev,>=0.1.0->google-cloud-vision)\r\n",
      "Requirement already up-to-date: rsa>=3.1.4 in c:\\users\\linhbnguyen018\\anaconda3\\lib\\site-packages (from google-auth<2.0.0dev,>=0.4.0->google-api-core[grpc]<2.0.0dev,>=0.1.0->google-cloud-vision)\r\n",
      "Requirement already up-to-date: pyasn1<0.5.0,>=0.4.1 in c:\\users\\linhbnguyen018\\anaconda3\\lib\\site-packages (from pyasn1-modules>=0.2.1->google-auth<2.0.0dev,>=0.4.0->google-api-core[grpc]<2.0.0dev,>=0.1.0->google-cloud-vision)\r\n",
      "\r\n",
      "(base) C:\\Users\\linhbnguyen018\\Desktop\\Schoolwork\\Columbia M.S\\Spring 2018\\Computational>"
     ]
    },
    {
     "name": "stderr",
     "output_type": "stream",
     "text": [
      "You are using pip version 9.0.1, however version 10.0.1 is available.\r\n",
      "You should consider upgrading via the 'python -m pip install --upgrade pip' command.\r\n"
     ]
    }
   ],
   "source": [
    "%%cmd\n",
    "pip install --upgrade google-cloud-vision"
   ]
  },
  {
   "cell_type": "code",
   "execution_count": 34,
   "metadata": {
    "collapsed": true
   },
   "outputs": [],
   "source": [
    "from os import environ\n",
    "environ[\"GOOGLE_APPLICATION_CREDENTIALS\"]=\"My First Project-faa351df6781.json\""
   ]
  },
  {
   "cell_type": "code",
   "execution_count": 35,
   "metadata": {
    "collapsed": true
   },
   "outputs": [],
   "source": [
    "# Imports the Google Cloud client library\n",
    "from google.cloud import vision\n",
    "from google.cloud.vision import types"
   ]
  },
  {
   "cell_type": "code",
   "execution_count": 36,
   "metadata": {},
   "outputs": [],
   "source": [
    "client = vision.ImageAnnotatorClient()"
   ]
  },
  {
   "cell_type": "code",
   "execution_count": 38,
   "metadata": {},
   "outputs": [],
   "source": [
    "# Download an image and put it in the same folder as this notebook\n",
    "file_name = \"DZu7BoFWkAIb-Jq.jpg\"\n",
    "\n",
    "image_file = open(file_name,\"rb\")\n",
    "image_content = image_file.read()\n",
    "\n",
    "image = types.Image(content=image_content)\n",
    "\n",
    "# Performs label detection on the image file\n",
    "from_google = client.label_detection(image=image)\n",
    "labels = from_google.label_annotations\n"
   ]
  },
  {
   "cell_type": "code",
   "execution_count": 39,
   "metadata": {},
   "outputs": [
    {
     "data": {
      "text/plain": [
       "[mid: \"/m/0jyfg\"\n",
       "description: \"glasses\"\n",
       "score: 0.9572234153747559\n",
       "topicality: 0.9572234153747559\n",
       ", mid: \"/m/0h8jxfl\"\n",
       "description: \"vision care\"\n",
       "score: 0.9224787950515747\n",
       "topicality: 0.9224787950515747\n",
       ", mid: \"/m/0j272k5\"\n",
       "description: \"eyewear\"\n",
       "score: 0.9146126508712769\n",
       "topicality: 0.9146126508712769\n",
       ", mid: \"/m/0463sg\"\n",
       "description: \"fashion accessory\"\n",
       "score: 0.7909509539604187\n",
       "topicality: 0.7909509539604187\n",
       ", mid: \"/m/05r655\"\n",
       "description: \"girl\"\n",
       "score: 0.7625454068183899\n",
       "topicality: 0.7625454068183899\n",
       ", mid: \"/m/071j9r\"\n",
       "description: \"cool\"\n",
       "score: 0.7498895525932312\n",
       "topicality: 0.7498895525932312\n",
       ", mid: \"/m/0fc1fy\"\n",
       "description: \"black hair\"\n",
       "score: 0.6933081150054932\n",
       "topicality: 0.6933081150054932\n",
       ", mid: \"/m/01jwgf\"\n",
       "description: \"product\"\n",
       "score: 0.6809644103050232\n",
       "topicality: 0.6809644103050232\n",
       ", mid: \"/m/0ggk3_t\"\n",
       "description: \"health & beauty\"\n",
       "score: 0.5694652795791626\n",
       "topicality: 0.5694652795791626\n",
       "]"
      ]
     },
     "execution_count": 39,
     "metadata": {},
     "output_type": "execute_result"
    }
   ],
   "source": [
    "labels"
   ]
  }
 ],
 "metadata": {
  "kernelspec": {
   "display_name": "Python 3",
   "language": "python",
   "name": "python3"
  },
  "language_info": {
   "codemirror_mode": {
    "name": "ipython",
    "version": 3
   },
   "file_extension": ".py",
   "mimetype": "text/x-python",
   "name": "python",
   "nbconvert_exporter": "python",
   "pygments_lexer": "ipython3",
   "version": "3.6.3"
  }
 },
 "nbformat": 4,
 "nbformat_minor": 2
}
